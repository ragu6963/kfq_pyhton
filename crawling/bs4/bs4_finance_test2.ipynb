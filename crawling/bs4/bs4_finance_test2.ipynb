{
 "cells": [
  {
   "cell_type": "code",
   "execution_count": 1,
   "metadata": {},
   "outputs": [],
   "source": [
    "from bs4 import BeautifulSoup\n",
    "import urllib.request\n",
    "import urllib.parse\n",
    "url = \"https://finance.naver.com/marketindex/exchangeList.nhn\""
   ]
  },
  {
   "cell_type": "code",
   "execution_count": 2,
   "metadata": {},
   "outputs": [],
   "source": [
    "# web_url에 원하는 웹의 URL을 넣어주시면 됩니다.\n",
    "with urllib.request.urlopen(url) as response:\n",
    "    html = response.read()\n",
    "    soup = BeautifulSoup(html, 'html.parser')"
   ]
  },
  {
   "cell_type": "code",
   "execution_count": 3,
   "metadata": {
    "collapsed": true,
    "jupyter": {
     "outputs_hidden": true
    }
   },
   "outputs": [
    {
     "data": {
      "text/plain": [
       "'<html lang=\"ko\">\\n <head>\\n  <title>\\n   네이버 금융\\n  </title>\\n  <meta content=\"text/html; charset=utf-8\" http-equiv=\"Content-Type\"/>\\n  <meta content=\"text/javascript\" http-equiv=\"Content-Script-Type\"/>\\n  <meta content=\"text/css\" http-equiv=\"Content-Style-Type\"/>\\n  <link href=\"/css/finance.css?20200615180049\" rel=\"stylesheet\" type=\"text/css\"/>\\n  <script language=\"javascript\">\\n   document.domain=\"naver.com\";\\n  </script>\\n  <script src=\"/js/info/jindo.min.ns.1.5.3.euckr.js\" type=\"text/javascript\">\\n  </script>\\n  <script src=\"/js/lcslog.js?20200615180049\" type=\"text/javascript\">\\n  </script>\\n </head>\\n <body>\\n  <div class=\"tbl_area\">\\n   <table border=\"1\" class=\"tbl_exchange\" summary=\"환전 고시 환율 리스트\">\\n    <caption>\\n     환전 고시 환율\\n    </caption>\\n    <colgroup>\\n     <col width=\"162\"/>\\n     <col width=\"92\"/>\\n     <col width=\"92\"/>\\n     <col width=\"92\"/>\\n     <col width=\"93\"/>\\n     <col width=\"92\"/>\\n     <col width=\"90\"/>\\n    </colgroup>\\n    <thead>\\n     <tr>\\n      <th class=\"th_ex1\" rowspan=\"2\">\\n       <a href=\"#\" onclick=\"javascript:changeOrder(\\'exchange\\'); return false;\">\\n        <span>\\n         통화명\\n        </span>\\n       </a>\\n      </th>\\n      <th class=\"th_ex2\" rowspan=\"2\">\\n       <span>\\n        매매기준율\\n       </span>\\n      </th>\\n      <th class=\"th_ex3\" colspan=\"2\">\\n       <span>\\n        현찰\\n       </span>\\n      </th>\\n      <th class=\"th_ex4\" colspan=\"2\">\\n       <span>\\n        송금\\n       </span>\\n      </th>\\n      <th class=\"th_ex6\" rowspan=\"2\">\\n       <span>\\n        미화환산율\\n       </span>\\n      </th>\\n     </tr>\\n     <tr>\\n      <th class=\"th_ex7\">\\n       <span>\\n        사실 때\\n       </span>\\n      </th>\\n      <th class=\"th_ex8\">\\n       <span>\\n        파실 때\\n       </span>\\n      </th>\\n      <th class=\"th_ex9\">\\n       <span>\\n        보내실 때\\n       </span>\\n      </th>\\n      <th class=\"th_ex10\">\\n       <span>\\n        받으실 때\\n       </span>\\n      </th>\\n     </tr>\\n    </thead>\\n    <tbody>\\n     <tr>\\n      <td class=\"tit\">\\n       <a href=\"/marketindex/exchangeDetail.nhn?marketindexCd=FX_USDKRW\" onclick=\"parent.clickcr(this, \\'exl.exlist\\', \\'FX_USDKRW\\', \\'1\\', event);\" target=\"_parent\">\\n        미국 USD\\n       </a>\\n      </td>\\n      <td class=\"sale\">\\n       1,205.70\\n      </td>\\n      <td>\\n       1,226.79\\n      </td>\\n      <td>\\n       1,184.61\\n      </td>\\n      <td>\\n       1,217.50\\n      </td>\\n      <td>\\n       1,193.90\\n      </td>\\n      <td>\\n       1.000\\n      </td>\\n     </tr>\\n     <tr>\\n      <td class=\"tit\">\\n       <a href=\"/marketindex/exchangeDetail.nhn?marketindexCd=FX_EURKRW\" onclick=\"parent.clickcr(this, \\'exl.exlist\\', \\'FX_EURKRW\\', \\'2\\', event);\" target=\"_parent\">\\n        유럽연합 EUR\\n       </a>\\n      </td>\\n      <td class=\"sale\">\\n       1,374.74\\n      </td>\\n      <td>\\n       1,402.09\\n      </td>\\n      <td>\\n       1,347.39\\n      </td>\\n      <td>\\n       1,388.48\\n      </td>\\n      <td>\\n       1,361.00\\n      </td>\\n      <td>\\n       1.140\\n      </td>\\n     </tr>\\n     <tr>\\n      <td class=\"tit\">\\n       <a href=\"/marketindex/exchangeDetail.nhn?marketindexCd=FX_JPYKRW\" onclick=\"parent.clickcr(this, \\'exl.exlist\\', \\'FX_JPYKRW\\', \\'3\\', event);\" target=\"_parent\">\\n        일본 JPY (100엔)\\n       </a>\\n      </td>\\n      <td class=\"sale\">\\n       1,127.40\\n      </td>\\n      <td>\\n       1,147.12\\n      </td>\\n      <td>\\n       1,107.68\\n      </td>\\n      <td>\\n       1,138.44\\n      </td>\\n      <td>\\n       1,116.36\\n      </td>\\n      <td>\\n       0.935\\n      </td>\\n     </tr>\\n     <tr>\\n      <td class=\"tit\">\\n       <a href=\"/marketindex/exchangeDetail.nhn?marketindexCd=FX_CNYKRW\" onclick=\"parent.clickcr(this, \\'exl.exlist\\', \\'FX_CNYKRW\\', \\'4\\', event);\" target=\"_parent\">\\n        중국 CNY\\n       </a>\\n      </td>\\n      <td class=\"sale\">\\n       172.30\\n      </td>\\n      <td>\\n       180.91\\n      </td>\\n      <td>\\n       163.69\\n      </td>\\n      <td>\\n       174.02\\n      </td>\\n      <td>\\n       170.58\\n      </td>\\n      <td>\\n       0.143\\n      </td>\\n     </tr>\\n     <tr>\\n      <td class=\"tit\">\\n       <a href=\"/marketindex/exchangeDetail.nhn?marketindexCd=FX_HKDKRW\" onclick=\"parent.clickcr(this, \\'exl.exlist\\', \\'FX_HKDKRW\\', \\'5\\', event);\" target=\"_parent\">\\n        홍콩 HKD\\n       </a>\\n      </td>\\n      <td class=\"sale\">\\n       155.52\\n      </td>\\n      <td>\\n       158.58\\n      </td>\\n      <td>\\n       152.46\\n      </td>\\n      <td>\\n       157.07\\n      </td>\\n      <td>\\n       153.97\\n      </td>\\n      <td>\\n       0.129\\n      </td>\\n     </tr>\\n     <tr>\\n      <td class=\"tit\">\\n       <a href=\"/marketindex/exchangeDetail.nhn?marketindexCd=FX_TWDKRW\" onclick=\"parent.clickcr(this, \\'exl.exlist\\', \\'FX_TWDKRW\\', \\'6\\', event);\" target=\"_parent\">\\n        대만 TWD\\n       </a>\\n      </td>\\n      <td class=\"sale\">\\n       40.92\\n      </td>\\n      <td>\\n       46.28\\n      </td>\\n      <td>\\n       38.06\\n      </td>\\n      <td>\\n       0.00\\n      </td>\\n      <td>\\n       0.00\\n      </td>\\n      <td>\\n       0.034\\n      </td>\\n     </tr>\\n     <tr>\\n      <td class=\"tit\">\\n       <a href=\"/marketindex/exchangeDetail.nhn?marketindexCd=FX_GBPKRW\" onclick=\"parent.clickcr(this, \\'exl.exlist\\', \\'FX_GBPKRW\\', \\'7\\', event);\" target=\"_parent\">\\n        영국 GBP\\n       </a>\\n      </td>\\n      <td class=\"sale\">\\n       1,513.45\\n      </td>\\n      <td>\\n       1,543.26\\n      </td>\\n      <td>\\n       1,483.64\\n      </td>\\n      <td>\\n       1,528.58\\n      </td>\\n      <td>\\n       1,498.32\\n      </td>\\n      <td>\\n       1.255\\n      </td>\\n     </tr>\\n     <tr>\\n      <td class=\"tit\">\\n       <a href=\"/marketindex/exchangeDetail.nhn?marketindexCd=FX_OMRKRW\" onclick=\"parent.clickcr(this, \\'exl.exlist\\', \\'FX_OMRKRW\\', \\'8\\', event);\" target=\"_parent\">\\n        오만 OMR\\n       </a>\\n      </td>\\n      <td class=\"sale\">\\n       3,131.69\\n      </td>\\n      <td>\\n       3,410.41\\n      </td>\\n      <td>\\n       2,943.79\\n      </td>\\n      <td>\\n       0.00\\n      </td>\\n      <td>\\n       0.00\\n      </td>\\n      <td>\\n       2.597\\n      </td>\\n     </tr>\\n     <tr>\\n      <td class=\"tit\">\\n       <a href=\"/marketindex/exchangeDetail.nhn?marketindexCd=FX_CADKRW\" onclick=\"parent.clickcr(this, \\'exl.exlist\\', \\'FX_CADKRW\\', \\'9\\', event);\" target=\"_parent\">\\n        캐나다 CAD\\n       </a>\\n      </td>\\n      <td class=\"sale\">\\n       892.58\\n      </td>\\n      <td>\\n       910.16\\n      </td>\\n      <td>\\n       875.00\\n      </td>\\n      <td>\\n       901.50\\n      </td>\\n      <td>\\n       883.66\\n      </td>\\n      <td>\\n       0.740\\n      </td>\\n     </tr>\\n     <tr>\\n      <td class=\"tit\">\\n       <a href=\"/marketindex/exchangeDetail.nhn?marketindexCd=FX_CHFKRW\" onclick=\"parent.clickcr(this, \\'exl.exlist\\', \\'FX_CHFKRW\\', \\'10\\', event);\" target=\"_parent\">\\n        스위스 CHF\\n       </a>\\n      </td>\\n      <td class=\"sale\">\\n       1,274.73\\n      </td>\\n      <td>\\n       1,299.84\\n      </td>\\n      <td>\\n       1,249.62\\n      </td>\\n      <td>\\n       1,287.47\\n      </td>\\n      <td>\\n       1,261.99\\n      </td>\\n      <td>\\n       1.057\\n      </td>\\n     </tr>\\n     <tr>\\n      <td class=\"tit\">\\n       <a href=\"/marketindex/exchangeDetail.nhn?marketindexCd=FX_SEKKRW\" onclick=\"parent.clickcr(this, \\'exl.exlist\\', \\'FX_SEKKRW\\', \\'11\\', event);\" target=\"_parent\">\\n        스웨덴 SEK\\n       </a>\\n      </td>\\n      <td class=\"sale\">\\n       132.59\\n      </td>\\n      <td>\\n       135.83\\n      </td>\\n      <td>\\n       129.35\\n      </td>\\n      <td>\\n       133.91\\n      </td>\\n      <td>\\n       131.27\\n      </td>\\n      <td>\\n       0.110\\n      </td>\\n     </tr>\\n     <tr>\\n      <td class=\"tit\">\\n       <a href=\"/marketindex/exchangeDetail.nhn?marketindexCd=FX_AUDKRW\" onclick=\"parent.clickcr(this, \\'exl.exlist\\', \\'FX_AUDKRW\\', \\'12\\', event);\" target=\"_parent\">\\n        호주 AUD\\n       </a>\\n      </td>\\n      <td class=\"sale\">\\n       842.78\\n      </td>\\n      <td>\\n       859.38\\n      </td>\\n      <td>\\n       826.18\\n      </td>\\n      <td>\\n       851.20\\n      </td>\\n      <td>\\n       834.36\\n      </td>\\n      <td>\\n       0.699\\n      </td>\\n     </tr>\\n     <tr>\\n      <td class=\"tit\">\\n       <a href=\"/marketindex/exchangeDetail.nhn?marketindexCd=FX_NZDKRW\" onclick=\"parent.clickcr(this, \\'exl.exlist\\', \\'FX_NZDKRW\\', \\'13\\', event);\" target=\"_parent\">\\n        뉴질랜드 NZD\\n       </a>\\n      </td>\\n      <td class=\"sale\">\\n       790.82\\n      </td>\\n      <td>\\n       806.39\\n      </td>\\n      <td>\\n       775.25\\n      </td>\\n      <td>\\n       798.72\\n      </td>\\n      <td>\\n       782.92\\n      </td>\\n      <td>\\n       0.656\\n      </td>\\n     </tr>\\n     <tr>\\n      <td class=\"tit\">\\n       <a href=\"/marketindex/exchangeDetail.nhn?marketindexCd=FX_CZKKRW\" onclick=\"parent.clickcr(this, \\'exl.exlist\\', \\'FX_CZKKRW\\', \\'14\\', event);\" target=\"_parent\">\\n        체코 CZK\\n       </a>\\n      </td>\\n      <td class=\"sale\">\\n       51.51\\n      </td>\\n      <td>\\n       55.88\\n      </td>\\n      <td>\\n       46.88\\n      </td>\\n      <td>\\n       52.07\\n      </td>\\n      <td>\\n       50.95\\n      </td>\\n      <td>\\n       0.043\\n      </td>\\n     </tr>\\n     <tr>\\n      <td class=\"tit\">\\n       <a href=\"/marketindex/exchangeDetail.nhn?marketindexCd=FX_CLPKRW\" onclick=\"parent.clickcr(this, \\'exl.exlist\\', \\'FX_CLPKRW\\', \\'15\\', event);\" target=\"_parent\">\\n        칠레 CLP\\n       </a>\\n      </td>\\n      <td class=\"sale\">\\n       1.54\\n      </td>\\n      <td>\\n       1.66\\n      </td>\\n      <td>\\n       1.42\\n      </td>\\n      <td>\\n       0.00\\n      </td>\\n      <td>\\n       0.00\\n      </td>\\n      <td>\\n       0.001\\n      </td>\\n     </tr>\\n     <tr>\\n      <td class=\"tit\">\\n       <a href=\"/marketindex/exchangeDetail.nhn?marketindexCd=FX_TRYKRW\" onclick=\"parent.clickcr(this, \\'exl.exlist\\', \\'FX_TRYKRW\\', \\'16\\', event);\" target=\"_parent\">\\n        터키 TRY\\n       </a>\\n      </td>\\n      <td class=\"sale\">\\n       175.81\\n      </td>\\n      <td>\\n       0.00\\n      </td>\\n      <td>\\n       0.00\\n      </td>\\n      <td>\\n       177.74\\n      </td>\\n      <td>\\n       173.88\\n      </td>\\n      <td>\\n       0.146\\n      </td>\\n     </tr>\\n     <tr>\\n      <td class=\"tit\">\\n       <a href=\"/marketindex/exchangeDetail.nhn?marketindexCd=FX_MNTKRW\" onclick=\"parent.clickcr(this, \\'exl.exlist\\', \\'FX_MNTKRW\\', \\'17\\', event);\" target=\"_parent\">\\n        몽골 MNT\\n       </a>\\n      </td>\\n      <td class=\"sale\">\\n       0.43\\n      </td>\\n      <td>\\n       0.00\\n      </td>\\n      <td>\\n       0.00\\n      </td>\\n      <td>\\n       0.00\\n      </td>\\n      <td>\\n       0.00\\n      </td>\\n      <td>\\n       0.000\\n      </td>\\n     </tr>\\n     <tr>\\n      <td class=\"tit\">\\n       <a href=\"/marketindex/exchangeDetail.nhn?marketindexCd=FX_ILSKRW\" onclick=\"parent.clickcr(this, \\'exl.exlist\\', \\'FX_ILSKRW\\', \\'18\\', event);\" target=\"_parent\">\\n        이스라엘 ILS\\n       </a>\\n      </td>\\n      <td class=\"sale\">\\n       351.31\\n      </td>\\n      <td>\\n       386.44\\n      </td>\\n      <td>\\n       323.21\\n      </td>\\n      <td>\\n       0.00\\n      </td>\\n      <td>\\n       0.00\\n      </td>\\n      <td>\\n       0.291\\n      </td>\\n     </tr>\\n     <tr>\\n      <td class=\"tit\">\\n       <a href=\"/marketindex/exchangeDetail.nhn?marketindexCd=FX_DKKKRW\" onclick=\"parent.clickcr(this, \\'exl.exlist\\', \\'FX_DKKKRW\\', \\'19\\', event);\" target=\"_parent\">\\n        덴마크 DKK\\n       </a>\\n      </td>\\n      <td class=\"sale\">\\n       184.60\\n      </td>\\n      <td>\\n       189.12\\n      </td>\\n      <td>\\n       180.08\\n      </td>\\n      <td>\\n       186.44\\n      </td>\\n      <td>\\n       182.76\\n      </td>\\n      <td>\\n       0.153\\n      </td>\\n     </tr>\\n     <tr>\\n      <td class=\"tit\">\\n       <a href=\"/marketindex/exchangeDetail.nhn?marketindexCd=FX_NOKKRW\" onclick=\"parent.clickcr(this, \\'exl.exlist\\', \\'FX_NOKKRW\\', \\'20\\', event);\" target=\"_parent\">\\n        노르웨이 NOK\\n       </a>\\n      </td>\\n      <td class=\"sale\">\\n       129.43\\n      </td>\\n      <td>\\n       132.60\\n      </td>\\n      <td>\\n       126.26\\n      </td>\\n      <td>\\n       130.72\\n      </td>\\n      <td>\\n       128.14\\n      </td>\\n      <td>\\n       0.107\\n      </td>\\n     </tr>\\n     <tr>\\n      <td class=\"tit\">\\n       <a href=\"/marketindex/exchangeDetail.nhn?marketindexCd=FX_SARKRW\" onclick=\"parent.clickcr(this, \\'exl.exlist\\', \\'FX_SARKRW\\', \\'21\\', event);\" target=\"_parent\">\\n        사우디아라비아 SAR\\n       </a>\\n      </td>\\n      <td class=\"sale\">\\n       321.46\\n      </td>\\n      <td>\\n       341.71\\n      </td>\\n      <td>\\n       299.28\\n      </td>\\n      <td>\\n       324.67\\n      </td>\\n      <td>\\n       318.25\\n      </td>\\n      <td>\\n       0.267\\n      </td>\\n     </tr>\\n     <tr>\\n      <td class=\"tit\">\\n       <a href=\"/marketindex/exchangeDetail.nhn?marketindexCd=FX_KWDKRW\" onclick=\"parent.clickcr(this, \\'exl.exlist\\', \\'FX_KWDKRW\\', \\'22\\', event);\" target=\"_parent\">\\n        쿠웨이트 KWD\\n       </a>\\n      </td>\\n      <td class=\"sale\">\\n       3,920.98\\n      </td>\\n      <td>\\n       4,175.84\\n      </td>\\n      <td>\\n       3,607.31\\n      </td>\\n      <td>\\n       3,960.18\\n      </td>\\n      <td>\\n       3,881.78\\n      </td>\\n      <td>\\n       3.252\\n      </td>\\n     </tr>\\n     <tr>\\n      <td class=\"tit\">\\n       <a href=\"/marketindex/exchangeDetail.nhn?marketindexCd=FX_BHDKRW\" onclick=\"parent.clickcr(this, \\'exl.exlist\\', \\'FX_BHDKRW\\', \\'23\\', event);\" target=\"_parent\">\\n        바레인 BHD\\n       </a>\\n      </td>\\n      <td class=\"sale\">\\n       3,197.72\\n      </td>\\n      <td>\\n       3,402.37\\n      </td>\\n      <td>\\n       2,941.91\\n      </td>\\n      <td>\\n       3,229.69\\n      </td>\\n      <td>\\n       3,165.75\\n      </td>\\n      <td>\\n       2.652\\n      </td>\\n     </tr>\\n     <tr>\\n      <td class=\"tit\">\\n       <a href=\"/marketindex/exchangeDetail.nhn?marketindexCd=FX_AEDKRW\" onclick=\"parent.clickcr(this, \\'exl.exlist\\', \\'FX_AEDKRW\\', \\'24\\', event);\" target=\"_parent\">\\n        아랍에미리트 AED\\n       </a>\\n      </td>\\n      <td class=\"sale\">\\n       328.25\\n      </td>\\n      <td>\\n       346.30\\n      </td>\\n      <td>\\n       305.61\\n      </td>\\n      <td>\\n       331.53\\n      </td>\\n      <td>\\n       324.97\\n      </td>\\n      <td>\\n       0.272\\n      </td>\\n     </tr>\\n     <tr>\\n      <td class=\"tit\">\\n       <a href=\"/marketindex/exchangeDetail.nhn?marketindexCd=FX_JODKRW\" onclick=\"parent.clickcr(this, \\'exl.exlist\\', \\'FX_JODKRW\\', \\'25\\', event);\" target=\"_parent\">\\n        요르단 JOD\\n       </a>\\n      </td>\\n      <td class=\"sale\">\\n       1,700.56\\n      </td>\\n      <td>\\n       1,851.90\\n      </td>\\n      <td>\\n       1,564.52\\n      </td>\\n      <td>\\n       0.00\\n      </td>\\n      <td>\\n       0.00\\n      </td>\\n      <td>\\n       1.410\\n      </td>\\n     </tr>\\n     <tr>\\n      <td class=\"tit\">\\n       <a href=\"/marketindex/exchangeDetail.nhn?marketindexCd=FX_EGPKRW\" onclick=\"parent.clickcr(this, \\'exl.exlist\\', \\'FX_EGPKRW\\', \\'26\\', event);\" target=\"_parent\">\\n        이집트 EGP\\n       </a>\\n      </td>\\n      <td class=\"sale\">\\n       75.50\\n      </td>\\n      <td>\\n       0.00\\n      </td>\\n      <td>\\n       0.00\\n      </td>\\n      <td>\\n       0.00\\n      </td>\\n      <td>\\n       0.00\\n      </td>\\n      <td>\\n       0.063\\n      </td>\\n     </tr>\\n     <tr>\\n      <td class=\"tit\">\\n       <a href=\"/marketindex/exchangeDetail.nhn?marketindexCd=FX_THBKRW\" onclick=\"parent.clickcr(this, \\'exl.exlist\\', \\'FX_THBKRW\\', \\'27\\', event);\" target=\"_parent\">\\n        태국 THB\\n       </a>\\n      </td>\\n      <td class=\"sale\">\\n       38.02\\n      </td>\\n      <td>\\n       39.92\\n      </td>\\n      <td>\\n       35.74\\n      </td>\\n      <td>\\n       38.40\\n      </td>\\n      <td>\\n       37.64\\n      </td>\\n      <td>\\n       0.032\\n      </td>\\n     </tr>\\n     <tr>\\n      <td class=\"tit\">\\n       <a href=\"/marketindex/exchangeDetail.nhn?marketindexCd=FX_SGDKRW\" onclick=\"parent.clickcr(this, \\'exl.exlist\\', \\'FX_SGDKRW\\', \\'28\\', event);\" target=\"_parent\">\\n        싱가포르 SGD\\n       </a>\\n      </td>\\n      <td class=\"sale\">\\n       865.60\\n      </td>\\n      <td>\\n       882.82\\n      </td>\\n      <td>\\n       848.38\\n      </td>\\n      <td>\\n       874.25\\n      </td>\\n      <td>\\n       856.95\\n      </td>\\n      <td>\\n       0.718\\n      </td>\\n     </tr>\\n     <tr>\\n      <td class=\"tit\">\\n       <a href=\"/marketindex/exchangeDetail.nhn?marketindexCd=FX_MYRKRW\" onclick=\"parent.clickcr(this, \\'exl.exlist\\', \\'FX_MYRKRW\\', \\'29\\', event);\" target=\"_parent\">\\n        말레이시아 MYR\\n       </a>\\n      </td>\\n      <td class=\"sale\">\\n       282.53\\n      </td>\\n      <td>\\n       300.32\\n      </td>\\n      <td>\\n       261.63\\n      </td>\\n      <td>\\n       0.00\\n      </td>\\n      <td>\\n       279.71\\n      </td>\\n      <td>\\n       0.234\\n      </td>\\n     </tr>\\n     <tr>\\n      <td class=\"tit\">\\n       <a href=\"/marketindex/exchangeDetail.nhn?marketindexCd=FX_IDRKRW\" onclick=\"parent.clickcr(this, \\'exl.exlist\\', \\'FX_IDRKRW\\', \\'30\\', event);\" target=\"_parent\">\\n        인도네시아 IDR 100\\n       </a>\\n      </td>\\n      <td class=\"sale\">\\n       8.28\\n      </td>\\n      <td>\\n       8.85\\n      </td>\\n      <td>\\n       7.46\\n      </td>\\n      <td>\\n       8.36\\n      </td>\\n      <td>\\n       8.20\\n      </td>\\n      <td>\\n       0.007\\n      </td>\\n     </tr>\\n     <tr>\\n      <td class=\"tit\">\\n       <a href=\"/marketindex/exchangeDetail.nhn?marketindexCd=FX_QARKRW\" onclick=\"parent.clickcr(this, \\'exl.exlist\\', \\'FX_QARKRW\\', \\'31\\', event);\" target=\"_parent\">\\n        카타르 QAR\\n       </a>\\n      </td>\\n      <td class=\"sale\">\\n       331.11\\n      </td>\\n      <td>\\n       0.00\\n      </td>\\n      <td>\\n       0.00\\n      </td>\\n      <td>\\n       0.00\\n      </td>\\n      <td>\\n       0.00\\n      </td>\\n      <td>\\n       0.275\\n      </td>\\n     </tr>\\n     <tr>\\n      <td class=\"tit\">\\n       <a href=\"/marketindex/exchangeDetail.nhn?marketindexCd=FX_KZTKRW\" onclick=\"parent.clickcr(this, \\'exl.exlist\\', \\'FX_KZTKRW\\', \\'32\\', event);\" target=\"_parent\">\\n        카자흐스탄 KZT\\n       </a>\\n      </td>\\n      <td class=\"sale\">\\n       2.92\\n      </td>\\n      <td>\\n       0.00\\n      </td>\\n      <td>\\n       0.00\\n      </td>\\n      <td>\\n       0.00\\n      </td>\\n      <td>\\n       0.00\\n      </td>\\n      <td>\\n       0.002\\n      </td>\\n     </tr>\\n     <tr>\\n      <td class=\"tit\">\\n       <a href=\"/marketindex/exchangeDetail.nhn?marketindexCd=FX_BNDKRW\" onclick=\"parent.clickcr(this, \\'exl.exlist\\', \\'FX_BNDKRW\\', \\'33\\', event);\" target=\"_parent\">\\n        브루나이 BND\\n       </a>\\n      </td>\\n      <td class=\"sale\">\\n       865.11\\n      </td>\\n      <td>\\n       899.71\\n      </td>\\n      <td>\\n       813.21\\n      </td>\\n      <td>\\n       0.00\\n      </td>\\n      <td>\\n       0.00\\n      </td>\\n      <td>\\n       0.718\\n      </td>\\n     </tr>\\n     <tr>\\n      <td class=\"tit\">\\n       <a href=\"/marketindex/exchangeDetail.nhn?marketindexCd=FX_INRKRW\" onclick=\"parent.clickcr(this, \\'exl.exlist\\', \\'FX_INRKRW\\', \\'34\\', event);\" target=\"_parent\">\\n        인도 INR\\n       </a>\\n      </td>\\n      <td class=\"sale\">\\n       16.02\\n      </td>\\n      <td>\\n       0.00\\n      </td>\\n      <td>\\n       0.00\\n      </td>\\n      <td>\\n       0.00\\n      </td>\\n      <td>\\n       0.00\\n      </td>\\n      <td>\\n       0.013\\n      </td>\\n     </tr>\\n     <tr>\\n      <td class=\"tit\">\\n       <a href=\"/marketindex/exchangeDetail.nhn?marketindexCd=FX_PKRKRW\" onclick=\"parent.clickcr(this, \\'exl.exlist\\', \\'FX_PKRKRW\\', \\'35\\', event);\" target=\"_parent\">\\n        파키스탄 PKR\\n       </a>\\n      </td>\\n      <td class=\"sale\">\\n       7.21\\n      </td>\\n      <td>\\n       0.00\\n      </td>\\n      <td>\\n       0.00\\n      </td>\\n      <td>\\n       0.00\\n      </td>\\n      <td>\\n       0.00\\n      </td>\\n      <td>\\n       0.006\\n      </td>\\n     </tr>\\n     <tr>\\n      <td class=\"tit\">\\n       <a href=\"/marketindex/exchangeDetail.nhn?marketindexCd=FX_BDTKRW\" onclick=\"parent.clickcr(this, \\'exl.exlist\\', \\'FX_BDTKRW\\', \\'36\\', event);\" target=\"_parent\">\\n        방글라데시 BDT\\n       </a>\\n      </td>\\n      <td class=\"sale\">\\n       14.22\\n      </td>\\n      <td>\\n       0.00\\n      </td>\\n      <td>\\n       0.00\\n      </td>\\n      <td>\\n       0.00\\n      </td>\\n      <td>\\n       0.00\\n      </td>\\n      <td>\\n       0.012\\n      </td>\\n     </tr>\\n     <tr>\\n      <td class=\"tit\">\\n       <a href=\"/marketindex/exchangeDetail.nhn?marketindexCd=FX_PHPKRW\" onclick=\"parent.clickcr(this, \\'exl.exlist\\', \\'FX_PHPKRW\\', \\'37\\', event);\" target=\"_parent\">\\n        필리핀 PHP\\n       </a>\\n      </td>\\n      <td class=\"sale\">\\n       24.32\\n      </td>\\n      <td>\\n       26.75\\n      </td>\\n      <td>\\n       22.33\\n      </td>\\n      <td>\\n       24.56\\n      </td>\\n      <td>\\n       24.08\\n      </td>\\n      <td>\\n       0.020\\n      </td>\\n     </tr>\\n     <tr>\\n      <td class=\"tit\">\\n       <a href=\"/marketindex/exchangeDetail.nhn?marketindexCd=FX_MXNKRW\" onclick=\"parent.clickcr(this, \\'exl.exlist\\', \\'FX_MXNKRW\\', \\'38\\', event);\" target=\"_parent\">\\n        멕시코 MXN\\n       </a>\\n      </td>\\n      <td class=\"sale\">\\n       53.84\\n      </td>\\n      <td>\\n       59.22\\n      </td>\\n      <td>\\n       49.32\\n      </td>\\n      <td>\\n       54.37\\n      </td>\\n      <td>\\n       53.31\\n      </td>\\n      <td>\\n       0.045\\n      </td>\\n     </tr>\\n     <tr>\\n      <td class=\"tit\">\\n       <a href=\"/marketindex/exchangeDetail.nhn?marketindexCd=FX_BRLKRW\" onclick=\"parent.clickcr(this, \\'exl.exlist\\', \\'FX_BRLKRW\\', \\'39\\', event);\" target=\"_parent\">\\n        브라질 BRL\\n       </a>\\n      </td>\\n      <td class=\"sale\">\\n       224.52\\n      </td>\\n      <td>\\n       247.42\\n      </td>\\n      <td>\\n       206.56\\n      </td>\\n      <td>\\n       0.00\\n      </td>\\n      <td>\\n       221.83\\n      </td>\\n      <td>\\n       0.186\\n      </td>\\n     </tr>\\n     <tr>\\n      <td class=\"tit\">\\n       <a href=\"/marketindex/exchangeDetail.nhn?marketindexCd=FX_VNDKRW\" onclick=\"parent.clickcr(this, \\'exl.exlist\\', \\'FX_VNDKRW\\', \\'40\\', event);\" target=\"_parent\">\\n        베트남 VND 100\\n       </a>\\n      </td>\\n      <td class=\"sale\">\\n       5.20\\n      </td>\\n      <td>\\n       5.81\\n      </td>\\n      <td>\\n       4.59\\n      </td>\\n      <td>\\n       5.25\\n      </td>\\n      <td>\\n       5.15\\n      </td>\\n      <td>\\n       0.004\\n      </td>\\n     </tr>\\n     <tr>\\n      <td class=\"tit\">\\n       <a href=\"/marketindex/exchangeDetail.nhn?marketindexCd=FX_ZARKRW\" onclick=\"parent.clickcr(this, \\'exl.exlist\\', \\'FX_ZARKRW\\', \\'41\\', event);\" target=\"_parent\">\\n        남아프리카 공화국 ZAR\\n       </a>\\n      </td>\\n      <td class=\"sale\">\\n       72.39\\n      </td>\\n      <td>\\n       76.73\\n      </td>\\n      <td>\\n       66.60\\n      </td>\\n      <td>\\n       73.25\\n      </td>\\n      <td>\\n       71.53\\n      </td>\\n      <td>\\n       0.060\\n      </td>\\n     </tr>\\n     <tr>\\n      <td class=\"tit\">\\n       <a href=\"/marketindex/exchangeDetail.nhn?marketindexCd=FX_RUBKRW\" onclick=\"parent.clickcr(this, \\'exl.exlist\\', \\'FX_RUBKRW\\', \\'42\\', event);\" target=\"_parent\">\\n        러시아 RUB\\n       </a>\\n      </td>\\n      <td class=\"sale\">\\n       16.98\\n      </td>\\n      <td>\\n       18.16\\n      </td>\\n      <td>\\n       15.12\\n      </td>\\n      <td>\\n       17.14\\n      </td>\\n      <td>\\n       16.82\\n      </td>\\n      <td>\\n       0.014\\n      </td>\\n     </tr>\\n     <tr>\\n      <td class=\"tit\">\\n       <a href=\"/marketindex/exchangeDetail.nhn?marketindexCd=FX_HUFKRW\" onclick=\"parent.clickcr(this, \\'exl.exlist\\', \\'FX_HUFKRW\\', \\'43\\', event);\" target=\"_parent\">\\n        헝가리 HUF\\n       </a>\\n      </td>\\n      <td class=\"sale\">\\n       3.88\\n      </td>\\n      <td>\\n       4.24\\n      </td>\\n      <td>\\n       3.57\\n      </td>\\n      <td>\\n       3.92\\n      </td>\\n      <td>\\n       3.84\\n      </td>\\n      <td>\\n       0.003\\n      </td>\\n     </tr>\\n     <tr>\\n      <td class=\"tit\">\\n       <a href=\"/marketindex/exchangeDetail.nhn?marketindexCd=FX_PLNKRW\" onclick=\"parent.clickcr(this, \\'exl.exlist\\', \\'FX_PLNKRW\\', \\'44\\', event);\" target=\"_parent\">\\n        폴란드 PLN\\n       </a>\\n      </td>\\n      <td class=\"sale\">\\n       306.03\\n      </td>\\n      <td>\\n       330.51\\n      </td>\\n      <td>\\n       281.55\\n      </td>\\n      <td>\\n       309.39\\n      </td>\\n      <td>\\n       302.67\\n      </td>\\n      <td>\\n       0.254\\n      </td>\\n     </tr>\\n    </tbody>\\n   </table>\\n  </div>\\n  <script language=\"javascript\" type=\"text/javascript\">\\n   // 통화명 정렬 - asc, desc\\n\\n\\t\\t// xss 공격 때문에 validation check 추가\\n\\t\\tregex = new RegExp(\"^asc$|^desc$\");\\n\\t\\t\\t\\t\\n\\t\\tif (\"\".match(regex)) {\\n\\t\\t\\tvar CURRENT_SORT_ORDER = \"\";\\n\\t\\t} else {\\n\\t\\t\\tvar CURRENT_SORT_ORDER = \"asc\";\\n\\t\\t}\\n\\t\\t\\n\\t\\tfunction changeOrder(type) {\\n\\t\\tvar sortOrder = null;\\n\\t\\tif (CURRENT_SORT_ORDER == \"asc\") {\\n\\t\\t\\tsortOrder = \"desc\";\\n\\t\\t} else if (CURRENT_SORT_ORDER == \"desc\") {\\n\\t\\t\\tsortOrder = \"asc\";\\n\\t\\t} else {\\n\\t\\t\\tsortOrder = \"desc\";\\n\\t\\t}\\n\\t\\t\\n\\t\\tif(type == \"exchange\") {\\n\\t\\t\\tlocation.href= \"/marketindex/exchangeList.nhn?sortOrder=\"+sortOrder;\\n\\t\\t} else {\\t\\t\\n\\t\\t\\tlocation.href= \"/marketindex/worldExchangeList.nhn?sortOrder=\"+sortOrder;\\n\\t\\t}\\n\\t}\\n  </script>\\n  <script type=\"text/javascript\">\\n  </script>\\n </body>\\n</html>'"
      ]
     },
     "execution_count": 3,
     "metadata": {},
     "output_type": "execute_result"
    }
   ],
   "source": [
    "soup.prettify()"
   ]
  },
  {
   "cell_type": "code",
   "execution_count": 32,
   "metadata": {},
   "outputs": [],
   "source": [
    "name = soup.select('.tbl_exchange > tbody > tr > td.tit>a')\n",
    "money= soup.select('.tbl_exchange > tbody > tr > td.sale')"
   ]
  },
  {
   "cell_type": "code",
   "execution_count": 36,
   "metadata": {
    "collapsed": true,
    "jupyter": {
     "outputs_hidden": true
    }
   },
   "outputs": [
    {
     "name": "stdout",
     "output_type": "stream",
     "text": [
      "1,205.70\n",
      "1,374.74\n",
      "1,127.40\n",
      "172.30\n",
      "155.52\n",
      "40.92\n",
      "1,513.45\n",
      "3,131.69\n",
      "892.58\n",
      "1,274.73\n",
      "132.59\n",
      "842.78\n",
      "790.82\n",
      "51.51\n",
      "1.54\n",
      "175.81\n",
      "0.43\n",
      "351.31\n",
      "184.60\n",
      "129.43\n",
      "321.46\n",
      "3,920.98\n",
      "3,197.72\n",
      "328.25\n",
      "1,700.56\n",
      "75.50\n",
      "38.02\n",
      "865.60\n",
      "282.53\n",
      "8.28\n",
      "331.11\n",
      "2.92\n",
      "865.11\n",
      "16.02\n",
      "7.21\n",
      "14.22\n",
      "24.32\n",
      "53.84\n",
      "224.52\n",
      "5.20\n",
      "72.39\n",
      "16.98\n",
      "3.88\n",
      "306.03\n"
     ]
    }
   ],
   "source": []
  },
  {
   "cell_type": "code",
   "execution_count": 48,
   "metadata": {},
   "outputs": [
    {
     "name": "stdout",
     "output_type": "stream",
     "text": [
      "미국 USD  -  1205.70\n",
      "유럽연합 EUR  -  1374.74\n",
      "일본 JPY (100엔)  -  1127.40\n",
      "중국 CNY  -  172.30\n",
      "홍콩 HKD  -  155.52\n",
      "대만 TWD  -  40.92\n",
      "영국 GBP  -  1513.45\n",
      "오만 OMR  -  3131.69\n",
      "캐나다 CAD  -  892.58\n",
      "스위스 CHF  -  1274.73\n",
      "스웨덴 SEK  -  132.59\n",
      "호주 AUD  -  842.78\n",
      "뉴질랜드 NZD  -  790.82\n",
      "체코 CZK  -  51.51\n",
      "칠레 CLP  -  1.54\n",
      "터키 TRY  -  175.81\n",
      "몽골 MNT  -  0.43\n",
      "이스라엘 ILS  -  351.31\n",
      "덴마크 DKK  -  184.60\n",
      "노르웨이 NOK  -  129.43\n",
      "사우디아라비아 SAR  -  321.46\n",
      "쿠웨이트 KWD  -  3920.98\n",
      "바레인 BHD  -  3197.72\n",
      "아랍에미리트 AED  -  328.25\n",
      "요르단 JOD  -  1700.56\n",
      "이집트 EGP  -  75.50\n",
      "태국 THB  -  38.02\n",
      "싱가포르 SGD  -  865.60\n",
      "말레이시아 MYR  -  282.53\n",
      "인도네시아 IDR 100  -  8.28\n",
      "카타르 QAR  -  331.11\n",
      "카자흐스탄 KZT  -  2.92\n",
      "브루나이 BND  -  865.11\n",
      "인도 INR  -  16.02\n",
      "파키스탄 PKR  -  7.21\n",
      "방글라데시 BDT  -  14.22\n",
      "필리핀 PHP  -  24.32\n",
      "멕시코 MXN  -  53.84\n",
      "브라질 BRL  -  224.52\n",
      "베트남 VND 100  -  5.20\n",
      "남아프리카 공화국 ZAR  -  72.39\n",
      "러시아 RUB  -  16.98\n",
      "헝가리 HUF  -  3.88\n",
      "폴란드 PLN  -  306.03\n"
     ]
    }
   ],
   "source": [
    "for i in range(len(name)):\n",
    "    print(name[i].string.strip(), \" - \", money[i].get_text().replace(\",\",\"\"))"
   ]
  },
  {
   "cell_type": "code",
   "execution_count": null,
   "metadata": {},
   "outputs": [],
   "source": []
  }
 ],
 "metadata": {
  "kernelspec": {
   "display_name": "Python 3",
   "language": "python",
   "name": "python3"
  },
  "language_info": {
   "codemirror_mode": {
    "name": "ipython",
    "version": 3
   },
   "file_extension": ".py",
   "mimetype": "text/x-python",
   "name": "python",
   "nbconvert_exporter": "python",
   "pygments_lexer": "ipython3",
   "version": "3.7.6"
  }
 },
 "nbformat": 4,
 "nbformat_minor": 4
}
